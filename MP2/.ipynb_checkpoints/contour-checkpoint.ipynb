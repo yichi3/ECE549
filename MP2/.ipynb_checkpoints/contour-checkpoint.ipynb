{
 "cells": [
  {
   "cell_type": "code",
   "execution_count": 1,
   "metadata": {},
   "outputs": [],
   "source": [
    "# Code from Saurabh Gupta\n",
    "from tqdm import tqdm\n",
    "import os, sys, numpy as np, cv2\n",
    "sys.path.insert(0, 'pybsds')\n",
    "from scipy import signal\n",
    "from skimage.util import img_as_float\n",
    "from skimage.io import imread\n",
    "from pybsds.bsds_dataset import BSDSDataset\n",
    "from pybsds import evaluate_boundaries\n",
    "import matplotlib\n",
    "matplotlib.use('Agg')\n",
    "from matplotlib import pyplot as plt\n",
    "import math\n",
    "from scipy.ndimage.filters import gaussian_filter1d"
   ]
  },
  {
   "cell_type": "code",
   "execution_count": 2,
   "metadata": {},
   "outputs": [],
   "source": [
    "GT_DIR = os.path.join('contour-data', 'groundTruth')\n",
    "IMAGE_DIR = os.path.join('contour-data', 'images')\n",
    "N_THRESHOLDS = 99"
   ]
  },
  {
   "cell_type": "code",
   "execution_count": 17,
   "metadata": {},
   "outputs": [],
   "source": [
    "def get_imlist(name):\n",
    "    imlist = np.loadtxt('contour-data/{}.imlist'.format(name))\n",
    "    return imlist.astype(np.int)\n",
    "\n",
    "def compute_edges_dxdy(I, sigma=None):\n",
    "    \"\"\"Returns the norm of dx and dy as the edge response function.\"\"\"\n",
    "    I = I.astype(np.float32)/255.\n",
    "    dx = signal.convolve2d(I, np.array([[-1, 0, 1]]), mode='same')\n",
    "    dy = signal.convolve2d(I, np.array([[-1, 0, 1]]).T, mode='same')\n",
    "    mag = np.sqrt(dx**2 + dy**2)\n",
    "    mag = mag / np.max(mag)\n",
    "    mag = mag * 255.\n",
    "    mag = np.clip(mag, 0, 255)\n",
    "    mag = mag.astype(np.uint8)\n",
    "    return mag\n",
    "\n",
    "# part a: we do some modifications to the convolution here\n",
    "def compute_edges_dxdy_parta(I, sigma=None):\n",
    "    \"\"\"Returns the norm of dx and dy as the edge response function.\"\"\"\n",
    "    I = I.astype(np.float32)/255.\n",
    "    dx = signal.convolve2d(I, np.array([[-1, 0, 1]]), boundary='symm', mode='same')\n",
    "    dy = signal.convolve2d(I, np.array([[-1, 0, 1]]).T, boundary='symm', mode='same')\n",
    "    mag = np.sqrt(dx**2 + dy**2)\n",
    "    mag = mag / np.max(mag)\n",
    "    mag = mag * 255.\n",
    "    mag = np.clip(mag, 0, 255)\n",
    "    mag = mag.astype(np.uint8)\n",
    "    return mag\n",
    "\n",
    "# part b: use Gaussian filter to smooth the image\n",
    "# we need first have a derivative of gaussian filter\n",
    "def Gaussian_derivative(sigma):\n",
    "    # we can apply this filter to x and y dimension since it can be separated\n",
    "    half_size = math.ceil(3 * sigma)\n",
    "    x = np.arange(-half_size, half_size + 1)\n",
    "    y = np.arange(-half_size, half_size + 1)\n",
    "    gx, gy = np.exp(-x**2 / (2 * sigma**2)), np.exp(-y**2 / (2 * sigma**2))\n",
    "    return np.outer(gy, (x * gx).T), np.outer((y * gy).T, gx)\n",
    "\n",
    "# part b:\n",
    "def compute_edges_dxdy_partb(I, sigma):\n",
    "    \"\"\"Returns the norm of dx and dy as the edge response function.\"\"\"\n",
    "    I = I.astype(np.float32)/255.\n",
    "    dx, dy = Gaussian_derivative(sigma)\n",
    "    dx = signal.convolve2d(I, dx, boundary='symm', mode='same')\n",
    "    dy = signal.convolve2d(I, dy, boundary='symm', mode='same')\n",
    "    mag = np.sqrt(dx**2 + dy**2)\n",
    "    mag = mag / np.max(mag)\n",
    "    mag = mag * 255.\n",
    "    mag = np.clip(mag, 0, 255)\n",
    "    mag = mag.astype(np.uint8)\n",
    "    return mag\n",
    "\n",
    "# part c: we need to do the non-maximum suppression to reduce the width of edge\n",
    "def interpolation(x, y, I):\n",
    "    # assume we use bililnear interpolation here\n",
    "    floor_x, floor_y, ceil_x, ceil_y = math.floor(x), math.floor(y), math.ceil(x), math.ceil(y)\n",
    "    # now the four corners of the pixels are:\n",
    "    # topleft = (floor_x, floor_y)\n",
    "    f00 = find_pixel_value(floor_x, floor_y, I)\n",
    "    # topright = (ceil_x, floor_y)\n",
    "    f10 = find_pixel_value(ceil_x, floor_y, I)\n",
    "    # bottomleft = (floor_x, ceil_y)\n",
    "    f01 = find_pixel_value(floor_x, ceil_y, I)\n",
    "    # bottomright = (ceil_x, ceil_y)\n",
    "    f11 = find_pixel_value(ceil_x, ceil_y, I)\n",
    "    \n",
    "    x_vector = np.array([[ceil_x - x, x - floor_x]])\n",
    "    pixel_matrix = np.array([[f00, f01], [f10, f11]])\n",
    "    y_vector = np.array([[ceil_y - y], [y - floor_y]])\n",
    "    return (x_vector @ pixel_matrix @ y_vector)[0, 0]\n",
    "    \n",
    "def find_pixel_value(x, y, I):\n",
    "    # if x, y out of bound, we use the edge value\n",
    "    height, width = I.shape\n",
    "    new_x = max(0, min(x, width - 1))\n",
    "    new_y = max(0, min(y, height - 1))\n",
    "    return I[new_y, new_x]\n",
    "\n",
    "def find_neighbor(dx, dy):\n",
    "    # in this function, we are given current pixel location x, y\n",
    "    # and current partial derivative dx dy\n",
    "    # we want to find the neighbor pixel location according to dx, dy\n",
    "    height, width = dx.shape\n",
    "    x = np.arange(width)\n",
    "    y = np.arange(height)\n",
    "    x, y = np.meshgrid(x, y)\n",
    "    direction = np.arctan2(dy, dx)\n",
    "    x_inc, y_inc = np.cos(direction), np.sin(direction)\n",
    "    neighbor1_x, neighbor1_y = x + x_inc, y + y_inc\n",
    "    neighbor2_x, neighbor2_y = x - x_inc, y - y_inc\n",
    "    return neighbor1_x, neighbor1_y, neighbor2_x, neighbor2_y\n",
    "\n",
    "def compute_edges_dxdy_partc(I, sigma):\n",
    "    I = I.astype(np.float32)/255.\n",
    "    height, width = I.shape\n",
    "    dx, dy = Gaussian_derivative(sigma)\n",
    "    dx = signal.convolve2d(I, dx, boundary='symm', mode='same')\n",
    "    dy = signal.convolve2d(I, dy, boundary='symm', mode='same')\n",
    "    mag = np.sqrt(dx**2 + dy**2)\n",
    "    mag = mag / np.max(mag)\n",
    "    mag = mag * 255.\n",
    "    mag = np.clip(mag, 0, 255)\n",
    "    result = np.zeros(mag.shape)\n",
    "    # now we need to check if we want suppress the pixel value\n",
    "    x1, y1, x2, y2 = find_neighbor(dx, dy)\n",
    "    for xx in range(width):\n",
    "        for yy in range(height):\n",
    "            # current pixel is mag[yy, xx]\n",
    "            # its neighbor is mag[x1[yy, xx], y1[yy, xx]] and mag[x2[yy, xx], y2[yy, xx]]\n",
    "            neighbor1 = interpolation(x1[yy, xx], y1[yy, xx], mag)\n",
    "            neighbor2 = interpolation(x2[yy, xx], y2[yy, xx], mag)\n",
    "            if (neighbor1 <= mag[yy, xx] and mag[yy, xx] <= neighbor2):\n",
    "                result[yy, xx] = 0\n",
    "            elif (neighbor1 >= mag[yy, xx] and mag[yy, xx] >= neighbor2):\n",
    "                result[yy, xx] = 0\n",
    "            else:\n",
    "                result[yy, xx] = mag[yy, xx]\n",
    "#             if (neighbor1 <= mag[yy, xx] and mag[yy, xx] >= neighbor2):\n",
    "#                 result[yy, xx] = mag[yy, xx]\n",
    "#             else:\n",
    "#                 result[yy, xx] = 0\n",
    "    result = result.astype(np.uint8)\n",
    "    return result\n",
    "\n",
    "def detect_edges(imlist, fn, out_dir, sigma):\n",
    "    for imname in tqdm(imlist):\n",
    "        I = cv2.imread(os.path.join(IMAGE_DIR, str(imname)+'.jpg'))\n",
    "        gray = cv2.cvtColor(I, cv2.COLOR_BGR2GRAY)\n",
    "        mag = fn(gray, sigma)\n",
    "        out_file_name = os.path.join(out_dir, str(imname)+'.png')\n",
    "        cv2.imwrite(out_file_name, mag)\n",
    "\n",
    "def load_gt_boundaries(imname):\n",
    "    gt_path = os.path.join(GT_DIR, '{}.mat'.format(imname))\n",
    "    return BSDSDataset.load_boundaries(gt_path)\n",
    "\n",
    "def load_pred(output_dir, imname):\n",
    "    pred_path = os.path.join(output_dir, '{}.png'.format(imname))\n",
    "    return img_as_float(imread(pred_path))\n",
    "\n",
    "def display_results(ax, f, im_results, threshold_results, overall_result):\n",
    "    out_keys = ['threshold', 'f1', 'best_f1', 'area_pr']\n",
    "    out_name = ['threshold', 'overall max F1 score', 'average max F1 score',\n",
    "              'area_pr']\n",
    "    for k, n in zip(out_keys, out_name):\n",
    "        print('{:>20s}: {:<10.6f}'.format(n, getattr(overall_result, k)))\n",
    "        f.write('{:>20s}: {:<10.6f}\\n'.format(n, getattr(overall_result, k)))\n",
    "    res = np.array(threshold_results)\n",
    "    recall = res[:,1]\n",
    "    precision = res[recall>0.01,2]\n",
    "    recall = recall[recall>0.01]\n",
    "    label_str = '{:0.2f}, {:0.2f}, {:0.2f}'.format(\n",
    "    overall_result.f1, overall_result.best_f1, overall_result.area_pr)\n",
    "    # Sometimes the PR plot may look funny, such as the plot curving back, i.e,\n",
    "    # getting a lower recall value as you lower the threshold. This is because of\n",
    "    # the lack on non-maximum suppression. The benchmarking code does some\n",
    "    # contour thinning by itself. Unfortunately this contour thinning is not very\n",
    "    # good. Without having done non-maximum suppression, as you lower the\n",
    "    # threshold, the contours become thicker and thicker and we lose the\n",
    "    # information about the precise location of the contour. Thus, a thined\n",
    "    # contour that corresponded to a ground truth boundary at a higher threshold\n",
    "    # can end up far away from the ground truth boundary at a lower threshold.\n",
    "    # This leads to a drop in recall as we decrease the threshold.\n",
    "    ax.plot(recall, precision, 'r', lw=2, label=label_str)\n",
    "    ax.set_xlim([0,1])\n",
    "    ax.set_ylim([0,1])\n",
    "    ax.grid(True)\n",
    "    ax.legend()\n",
    "    ax.set_xlabel('Recall')\n",
    "    ax.set_ylabel('Precision')"
   ]
  },
  {
   "cell_type": "code",
   "execution_count": 18,
   "metadata": {},
   "outputs": [],
   "source": [
    "def question2(part, sigma=2):\n",
    "    imset = 'val'\n",
    "    imlist = get_imlist(imset)\n",
    "    output_dir_list = ['contour-output/a', 'contour-output/b', 'contour-output/c', 'contour-output/demo']\n",
    "    output_dir = output_dir_list[part]\n",
    "    fn_list = [compute_edges_dxdy_parta, compute_edges_dxdy_partb, compute_edges_dxdy_partc, compute_edges_dxdy]\n",
    "    fn = fn_list[part]\n",
    "    if not os.path.exists(output_dir):\n",
    "        os.makedirs(output_dir)\n",
    "  \n",
    "    print('Running detector:')\n",
    "    # imlist = imlist[0:3]\n",
    "    detect_edges(imlist, fn, output_dir, sigma=sigma)\n",
    "  \n",
    "    _load_pred = lambda x: load_pred(output_dir, x)\n",
    "    print('Evaluating:')\n",
    "    sample_results, threshold_results, overall_result = \\\n",
    "        evaluate_boundaries.pr_evaluation(N_THRESHOLDS, imlist, load_gt_boundaries, \n",
    "                                          _load_pred, fast=True, progress=tqdm)\n",
    "    fig = plt.figure(figsize=(6,6))\n",
    "    ax = fig.gca()\n",
    "    file_name = os.path.join(output_dir + '_out.txt')\n",
    "    with open(file_name, 'wt') as f:\n",
    "        display_results(ax, f, sample_results, threshold_results, overall_result)\n",
    "    fig.savefig(os.path.join(output_dir + '_pr.pdf'), bbox_inches='tight')"
   ]
  },
  {
   "cell_type": "code",
   "execution_count": 16,
   "metadata": {},
   "outputs": [
    {
     "name": "stderr",
     "output_type": "stream",
     "text": [
      " 16%|█▌        | 8/50 [00:00<00:00, 77.93it/s]"
     ]
    },
    {
     "name": "stdout",
     "output_type": "stream",
     "text": [
      "Running detector:\n"
     ]
    },
    {
     "name": "stderr",
     "output_type": "stream",
     "text": [
      "100%|██████████| 50/50 [00:00<00:00, 85.68it/s]\n",
      "  0%|          | 0/50 [00:00<?, ?it/s]"
     ]
    },
    {
     "name": "stdout",
     "output_type": "stream",
     "text": [
      "Evaluating:\n"
     ]
    },
    {
     "name": "stderr",
     "output_type": "stream",
     "text": [
      "100%|██████████| 50/50 [03:04<00:00,  3.70s/it]"
     ]
    },
    {
     "name": "stdout",
     "output_type": "stream",
     "text": [
      "           threshold: 0.220000  \n",
      "overall max F1 score: 0.514369  \n",
      "average max F1 score: 0.562687  \n",
      "             area_pr: 0.408983  \n"
     ]
    },
    {
     "name": "stderr",
     "output_type": "stream",
     "text": [
      "\n"
     ]
    }
   ],
   "source": [
    "question2(3)"
   ]
  },
  {
   "cell_type": "code",
   "execution_count": 9,
   "metadata": {
    "scrolled": true
   },
   "outputs": [
    {
     "name": "stderr",
     "output_type": "stream",
     "text": [
      " 16%|█▌        | 8/50 [00:00<00:00, 75.96it/s]"
     ]
    },
    {
     "name": "stdout",
     "output_type": "stream",
     "text": [
      "Running detector:\n"
     ]
    },
    {
     "name": "stderr",
     "output_type": "stream",
     "text": [
      "100%|██████████| 50/50 [00:00<00:00, 81.99it/s]\n",
      "  0%|          | 0/50 [00:00<?, ?it/s]"
     ]
    },
    {
     "name": "stdout",
     "output_type": "stream",
     "text": [
      "Evaluating:\n"
     ]
    },
    {
     "name": "stderr",
     "output_type": "stream",
     "text": [
      "100%|██████████| 50/50 [03:11<00:00,  3.83s/it]"
     ]
    },
    {
     "name": "stdout",
     "output_type": "stream",
     "text": [
      "           threshold: 0.240000  \n",
      "overall max F1 score: 0.542432  \n",
      "average max F1 score: 0.587287  \n",
      "             area_pr: 0.509132  \n"
     ]
    },
    {
     "name": "stderr",
     "output_type": "stream",
     "text": [
      "\n"
     ]
    }
   ],
   "source": [
    "question2(0)"
   ]
  },
  {
   "cell_type": "code",
   "execution_count": 10,
   "metadata": {
    "scrolled": true
   },
   "outputs": [
    {
     "name": "stderr",
     "output_type": "stream",
     "text": [
      "  2%|▏         | 1/50 [00:00<00:06,  7.18it/s]"
     ]
    },
    {
     "name": "stdout",
     "output_type": "stream",
     "text": [
      "Running detector:\n"
     ]
    },
    {
     "name": "stderr",
     "output_type": "stream",
     "text": [
      "100%|██████████| 50/50 [00:05<00:00,  8.98it/s]\n",
      "  0%|          | 0/50 [00:00<?, ?it/s]"
     ]
    },
    {
     "name": "stdout",
     "output_type": "stream",
     "text": [
      "Evaluating:\n"
     ]
    },
    {
     "name": "stderr",
     "output_type": "stream",
     "text": [
      "100%|██████████| 50/50 [03:55<00:00,  4.71s/it]"
     ]
    },
    {
     "name": "stdout",
     "output_type": "stream",
     "text": [
      "           threshold: 0.230000  \n",
      "overall max F1 score: 0.598458  \n",
      "average max F1 score: 0.628817  \n",
      "             area_pr: 0.585780  \n"
     ]
    },
    {
     "name": "stderr",
     "output_type": "stream",
     "text": [
      "\n"
     ]
    }
   ],
   "source": [
    "question2(1, sigma=2)"
   ]
  },
  {
   "cell_type": "code",
   "execution_count": 21,
   "metadata": {
    "scrolled": true
   },
   "outputs": [
    {
     "name": "stderr",
     "output_type": "stream",
     "text": [
      "\r",
      "  0%|          | 0/50 [00:00<?, ?it/s]"
     ]
    },
    {
     "name": "stdout",
     "output_type": "stream",
     "text": [
      "Running detector:\n"
     ]
    },
    {
     "name": "stderr",
     "output_type": "stream",
     "text": [
      "100%|██████████| 50/50 [03:20<00:00,  4.00s/it]\n",
      "  0%|          | 0/50 [00:00<?, ?it/s]"
     ]
    },
    {
     "name": "stdout",
     "output_type": "stream",
     "text": [
      "Evaluating:\n"
     ]
    },
    {
     "name": "stderr",
     "output_type": "stream",
     "text": [
      "100%|██████████| 50/50 [01:56<00:00,  2.32s/it]"
     ]
    },
    {
     "name": "stdout",
     "output_type": "stream",
     "text": [
      "           threshold: 0.220000  \n",
      "overall max F1 score: 0.601285  \n",
      "average max F1 score: 0.634879  \n",
      "             area_pr: 0.614372  \n"
     ]
    },
    {
     "name": "stderr",
     "output_type": "stream",
     "text": [
      "\n"
     ]
    }
   ],
   "source": [
    "question2(2, sigma=2.5)"
   ]
  },
  {
   "cell_type": "code",
   "execution_count": null,
   "metadata": {},
   "outputs": [],
   "source": []
  }
 ],
 "metadata": {
  "kernelspec": {
   "display_name": "Python 3",
   "language": "python",
   "name": "python3"
  },
  "language_info": {
   "codemirror_mode": {
    "name": "ipython",
    "version": 3
   },
   "file_extension": ".py",
   "mimetype": "text/x-python",
   "name": "python",
   "nbconvert_exporter": "python",
   "pygments_lexer": "ipython3",
   "version": "3.7.6"
  }
 },
 "nbformat": 4,
 "nbformat_minor": 2
}
