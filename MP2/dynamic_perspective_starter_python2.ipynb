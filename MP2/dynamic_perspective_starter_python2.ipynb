{
  "nbformat": 4,
  "nbformat_minor": 0,
  "metadata": {
    "colab": {
      "name": "dynamic_perspective_starter.ipynb",
      "provenance": [],
      "collapsed_sections": []
    },
    "kernelspec": {
      "name": "python2",
      "display_name": "Python 2"
    }
  },
  "cells": [
    {
      "cell_type": "code",
      "metadata": {
        "id": "ElHHd1tI3Dt_",
        "colab_type": "code",
        "colab": {}
      },
      "source": [
        "import numpy as np\n",
        "import matplotlib.pyplot as plt"
      ],
      "execution_count": 0,
      "outputs": []
    },
    {
      "cell_type": "code",
      "metadata": {
        "id": "D8JHwMCj3JAT",
        "colab_type": "code",
        "colab": {}
      },
      "source": [
        "def get_wall_z_image(Z_val, fx, fy, cx, cy, szx, szy):\n",
        "  Z = Z_val*np.ones((szy, szx), dtype=np.float32)\n",
        "  return Z\n",
        "\n",
        "def get_road_z_image(H_val, fx, fy, cx, cy, szx, szy):\n",
        "  y = np.arange(szy).reshape(-1,1)*1.\n",
        "  y = np.tile(y, (1, szx))\n",
        "  Z = np.zeros((szy, szx), dtype=np.float32)\n",
        "  Z[y > cy] = H_val*fy / (y[y>cy]-cy)\n",
        "  Z[y <= cy] = np.NaN\n",
        "  return Z\n",
        "\n",
        "def plot_optical_flow(ax, Z, u, v, cx, cy, szx, szy, s=16):\n",
        "  # Here is a function for plotting the optical flow. Feel free to modify this \n",
        "  # function to work well with your inputs, for example if your predictions are\n",
        "  # in a different coordinate frame, etc.\n",
        "  \n",
        "  x, y = np.meshgrid(np.arange(szx), np.arange(szy))\n",
        "  ax.imshow(Z, alpha=0.5, origin='upper')\n",
        "  q = ax.quiver(x[::s,::s], y[::s,::s], u[::s,::s], -v[::s, ::s])\n",
        "  # ax.quiverkey(q, X=0.5, Y=0.9, U=20, \n",
        "  #              label='Quiver key length = 20', labelpos='N')\n",
        "  ax.axvline(cx)\n",
        "  ax.axhline(cy)\n",
        "  ax.set_xlim([0, szx])\n",
        "  ax.set_ylim([szy, 0])\n",
        "  ax.axis('equal')"
      ],
      "execution_count": 0,
      "outputs": []
    },
    {
      "cell_type": "code",
      "metadata": {
        "id": "P6sQifnU3Lt6",
        "colab_type": "code",
        "colab": {}
      },
      "source": [
        "# Focal length along X and Y axis. In class we assumed the smae focal length \n",
        "# for X and Y axis. but in general they could be different. We are denoting \n",
        "# these by fx and fy.\n",
        "fx = fy = 128.\n",
        "\n",
        "# Size of the image\n",
        "szy = 256\n",
        "szx = 384\n",
        "\n",
        "# Center of the image. We are going to assume that the principal point is at \n",
        "# the center of the image.\n",
        "cx = 192\n",
        "cy = 128\n",
        "\n",
        "# Gets the image of a wall 2m in front of the camera.\n",
        "Z1 = get_wall_z_image(2., fx, fy, cx, cy, szx, szy)\n",
        "\n",
        "\n",
        "# Gets the image of the ground plane that is 3m below the camera.\n",
        "Z2 = get_road_z_image(3., fx, fy, cx, cy, szx, szy)\n",
        "\n",
        "fig, (ax1, ax2) = plt.subplots(1,2, figsize=(14,7))\n",
        "ax1.imshow(Z1)\n",
        "ax2.imshow(Z2)\n",
        "\n",
        "# Plotting function.\n",
        "f = plt.figure(figsize=(13.5,9))\n",
        "u = np.random.rand(*Z1.shape)\n",
        "v = np.random.rand(*Z1.shape)\n",
        "plot_optical_flow(f.gca(), Z1, u, v, cx, cy, szx, szy, s=16)\n",
        "f.savefig('optical_flow_output.pdf', bbox_inches='tight')"
      ],
      "execution_count": 0,
      "outputs": []
    }
  ]
}