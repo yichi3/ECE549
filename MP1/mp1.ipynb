{
 "cells": [
  {
   "cell_type": "markdown",
   "metadata": {},
   "source": [
    "This assignment is taken from Svetlana Lazebnik."
   ]
  },
  {
   "cell_type": "markdown",
   "metadata": {},
   "source": [
    "### Common imports"
   ]
  },
  {
   "cell_type": "code",
   "execution_count": null,
   "metadata": {},
   "outputs": [],
   "source": [
    "%matplotlib inline\n",
    "import os\n",
    "import sys\n",
    "import glob\n",
    "import numpy as np\n",
    "import matplotlib\n",
    "import matplotlib.pyplot as plt\n",
    "from mpl_toolkits.mplot3d import Axes3D\n",
    "from PIL import Image\n",
    "from numpy.linalg import lstsq\n",
    "import random\n",
    "import timeit"
   ]
  },
  {
   "cell_type": "markdown",
   "metadata": {},
   "source": [
    "### Provided functions\n",
    "#### Image loading and saving"
   ]
  },
  {
   "cell_type": "code",
   "execution_count": null,
   "metadata": {},
   "outputs": [],
   "source": [
    "def LoadFaceImages(pathname, subject_name, num_images):\n",
    "    \"\"\"\n",
    "    Load the set of face images.  \n",
    "    The routine returns\n",
    "        ambimage: image illuminated under the ambient lighting\n",
    "        imarray: a 3-D array of images, h x w x Nimages\n",
    "        lightdirs: Nimages x 3 array of light source directions\n",
    "    \"\"\"\n",
    "\n",
    "    def load_image(fname):\n",
    "        return np.asarray(Image.open(fname))\n",
    "\n",
    "    def fname_to_ang(fname):\n",
    "        yale_name = os.path.basename(fname)\n",
    "        return int(yale_name[12:16]), int(yale_name[17:20])\n",
    "\n",
    "    def sph2cart(az, el, r):\n",
    "        rcos_theta = r * np.cos(el)\n",
    "        x = rcos_theta * np.cos(az)\n",
    "        y = rcos_theta * np.sin(az)\n",
    "        z = r * np.sin(el)\n",
    "        return x, y, z\n",
    "\n",
    "    ambimage = load_image(\n",
    "        os.path.join(pathname, subject_name + '_P00_Ambient.pgm'))\n",
    "    im_list = glob.glob(os.path.join(pathname, subject_name + '_P00A*.pgm'))\n",
    "    if num_images <= len(im_list):\n",
    "        im_sub_list = np.random.choice(im_list, num_images, replace=False)\n",
    "    else:\n",
    "        print(\n",
    "            'Total available images is less than specified.\\nProceeding with %d images.\\n'\n",
    "            % len(im_list))\n",
    "        im_sub_list = im_list\n",
    "    im_sub_list.sort()\n",
    "    imarray = np.stack([load_image(fname) for fname in im_sub_list], axis=-1)\n",
    "    Ang = np.array([fname_to_ang(fname) for fname in im_sub_list])\n",
    "\n",
    "    x, y, z = sph2cart(Ang[:, 0] / 180.0 * np.pi, Ang[:, 1] / 180.0 * np.pi, 1)\n",
    "    lightdirs = np.stack([y, z, x], axis=-1)\n",
    "    return ambimage, imarray, lightdirs"
   ]
  },
  {
   "cell_type": "code",
   "execution_count": null,
   "metadata": {},
   "outputs": [],
   "source": [
    "def save_outputs(subject_name, albedo_image, surface_normals):\n",
    "    im = Image.fromarray((albedo_image*255).astype(np.uint8))\n",
    "    im.save(\"%s_albedo.jpg\" % subject_name)\n",
    "    im = Image.fromarray((surface_normals[:,:,0]*128+128).astype(np.uint8))\n",
    "    im.save(\"%s_normals_x.jpg\" % subject_name)\n",
    "    im = Image.fromarray((surface_normals[:,:,1]*128+128).astype(np.uint8))\n",
    "    im.save(\"%s_normals_y.jpg\" % subject_name)\n",
    "    im = Image.fromarray((surface_normals[:,:,2]*128+128).astype(np.uint8))\n",
    "    im.save(\"%s_normals_z.jpg\" % subject_name)"
   ]
  },
  {
   "cell_type": "markdown",
   "metadata": {},
   "source": [
    "#### Plot the albedo and the surface norms. "
   ]
  },
  {
   "cell_type": "code",
   "execution_count": null,
   "metadata": {},
   "outputs": [],
   "source": [
    "def plot_albedo_and_surface_normals(albedo_image, surface_normals):\n",
    "    \"\"\"\n",
    "    albedo_image: h x w matrix\n",
    "    surface_normals: h x w x 3 matrix.\n",
    "    \"\"\"\n",
    "    fig, axes = plt.subplots(1, 4, figsize=(10,2.5))\n",
    "    ax = axes[0]\n",
    "    ax.axis('off')\n",
    "    ax.set_title('albedo')\n",
    "    ax.imshow(albedo_image, cmap='gray')\n",
    "\n",
    "    ax = axes[1]\n",
    "    ax.axis('off')\n",
    "    ax.set_title('X')\n",
    "    im = ax.imshow(surface_normals[:,:,0], cmap='jet')\n",
    "    ax = axes[2]\n",
    "    ax.axis('off')\n",
    "    ax.set_title('Y')\n",
    "    im = ax.imshow(surface_normals[:,:,1], cmap='jet')\n",
    "    ax = axes[3]\n",
    "    ax.axis('off')\n",
    "    ax.set_title('Z')\n",
    "    im = ax.imshow(surface_normals[:,:,2], cmap='jet')\n",
    "\n",
    "    fig.colorbar(im, ax=axes, fraction=0.02, aspect=15)"
   ]
  },
  {
   "cell_type": "markdown",
   "metadata": {},
   "source": [
    "#### Plot the height map"
   ]
  },
  {
   "cell_type": "code",
   "execution_count": null,
   "metadata": {},
   "outputs": [],
   "source": [
    "def set_aspect_equal_3d(ax):\n",
    "    \"\"\"https://stackoverflow.com/questions/13685386\"\"\"\n",
    "    \"\"\"Fix equal aspect bug for 3D plots.\"\"\"\n",
    "    xlim = ax.get_xlim3d()\n",
    "    ylim = ax.get_ylim3d()\n",
    "    zlim = ax.get_zlim3d()\n",
    "    from numpy import mean\n",
    "    xmean = mean(xlim)\n",
    "    ymean = mean(ylim)\n",
    "    zmean = mean(zlim)\n",
    "    plot_radius = max([\n",
    "        abs(lim - mean_)\n",
    "        for lims, mean_ in ((xlim, xmean), (ylim, ymean), (zlim, zmean))\n",
    "        for lim in lims\n",
    "    ])\n",
    "    ax.set_xlim3d([xmean - plot_radius, xmean + plot_radius])\n",
    "    ax.set_ylim3d([ymean - plot_radius, ymean + plot_radius])\n",
    "    ax.set_zlim3d([zmean - plot_radius, zmean + plot_radius])\n",
    "\n",
    "def display_3d(albedo_image, height_map, elev=20, azim=20):\n",
    "    fig = plt.figure(figsize=(10, 10))\n",
    "    ax = fig.gca(projection='3d')\n",
    "    ax.view_init(elev, azim)\n",
    "    X = np.arange(albedo_image.shape[0])\n",
    "    Y = np.arange(albedo_image.shape[1])\n",
    "    X, Y = np.meshgrid(Y, X)\n",
    "    H = np.flipud(np.fliplr(height_map))\n",
    "    A = np.flipud(np.fliplr(albedo_image))\n",
    "    A = np.stack([A, A, A], axis=-1)\n",
    "    ax.xaxis.set_ticks([])\n",
    "    ax.xaxis.set_label_text('Z')\n",
    "    ax.yaxis.set_ticks([])\n",
    "    ax.yaxis.set_label_text('X')\n",
    "    ax.zaxis.set_ticks([])\n",
    "    ax.yaxis.set_label_text('Y')\n",
    "    surf = ax.plot_surface(\n",
    "        H, X, Y, cmap='gray', facecolors=A, linewidth=0, antialiased=False)\n",
    "    set_aspect_equal_3d(ax)"
   ]
  },
  {
   "cell_type": "markdown",
   "metadata": {},
   "source": [
    "---\n",
    "### Your implementation"
   ]
  },
  {
   "cell_type": "code",
   "execution_count": null,
   "metadata": {},
   "outputs": [],
   "source": [
    "def preprocess(ambimage, imarray):\n",
    "    \"\"\"\n",
    "    preprocess the data: \n",
    "        1. subtract ambient_image from each image in imarray.\n",
    "        2. make sure no pixel is less than zero.\n",
    "        3. rescale values in imarray to be between 0 and 1.\n",
    "    Inputs:\n",
    "        ambimage: h x w\n",
    "        imarray: h x w x Nimages\n",
    "    Outputs:\n",
    "        processed_imarray: h x w x Nimages\n",
    "    \"\"\"\n",
    "    # first we need to subtract the ambimage\n",
    "    processed_imarray = np.transpose(imarray, axes=(2, 0, 1)) - ambimage\n",
    "    # set any negative value to 0\n",
    "    processed_imarray = np.clip(processed_imarray, a_min=0, a_max=255)\n",
    "    # at last, divide all numbers by 255\n",
    "    processed_imarray = processed_imarray / 255\n",
    "    processed_imarray = np.transpose(processed_imarray, axes=(1, 2, 0))\n",
    "    \n",
    "    return processed_imarray"
   ]
  },
  {
   "cell_type": "code",
   "execution_count": null,
   "metadata": {},
   "outputs": [],
   "source": [
    "def photometric_stereo(imarray, light_dirs):\n",
    "    \"\"\"\n",
    "    Inputs:\n",
    "        imarray:  h x w x Nimages\n",
    "        light_dirs: Nimages x 3\n",
    "    Outputs:\n",
    "        albedo_image: h x w\n",
    "        surface_norms: h x w x 3\n",
    "    \"\"\"\n",
    "    \n",
    "    \"\"\"\n",
    "    To solve the least square problem, we want to solve I = V.T * g\n",
    "    I is the stack for all pixels and all directions I has dimension Nimages x hw\n",
    "    V.T is the light source direction and has size Nimages x 3\n",
    "    g is the product of albedo and surface normal and only depends on pixels\n",
    "    g has dimension 3 x hw\n",
    "    suface normal is the normalized g and albedo is the factor\n",
    "    \"\"\"\n",
    "    h, w, Nimage = imarray.shape\n",
    "    # first adjust the dimension for imarray\n",
    "    I = np.reshape(imarray, (-1, Nimage)).T\n",
    "    # light_dirs is V.T already\n",
    "    # solve problem using least square\n",
    "    g, residues, _, _ = lstsq(light_dirs, I)\n",
    "    # surface normals is the normal vector for each column of g\n",
    "    # albedo is the factor\n",
    "    albedo_image = np.sqrt(np.sum(g**2, axis=0))\n",
    "    surface_normals = g / albedo_image\n",
    "    # now we need to reshape two outputs\n",
    "    albedo_image = albedo_image.reshape(h, w)\n",
    "    surface_normals = (surface_normals.T).reshape(h, w, 3)\n",
    "    return albedo_image, surface_normals, residues"
   ]
  },
  {
   "cell_type": "code",
   "execution_count": null,
   "metadata": {},
   "outputs": [],
   "source": [
    "def get_surface(surface_normals, integration_method):\n",
    "    \"\"\"\n",
    "    Inputs:\n",
    "        surface_normals:h x w x 3\n",
    "        integration_method: string in ['average', 'column', 'row', 'random']\n",
    "    Outputs:\n",
    "        height_map: h x w\n",
    "    \"\"\"\n",
    "    # first, we need to find the partial derivative for x and y\n",
    "    dx = surface_normals[:, :, 0] / surface_normals[:, :, 2]\n",
    "    dy = surface_normals[:, :, 1] / surface_normals[:, :, 2]\n",
    "    h, w, _ = surface_normals.shape\n",
    "    height_map = np.zeros((h, w))\n",
    "    if integration_method == 'column':\n",
    "        # for pixel at (x, y), we do summation from (0, 0) to (0, y) to (x, y)\n",
    "        # for first row, height(0, y) = sum dy from 0 to y-1\n",
    "        for j in range(1, w):\n",
    "            height_map[0, j] = height_map[0, j-1] + dx[0, j-1]\n",
    "        # for rest rows, height(x, y) = height(x-1, y) + dy[x-1, y]\n",
    "        for i in range(1, h):\n",
    "            for j in range(w):\n",
    "                height_map[i, j] = height_map[i-1, j] + dy[i-1, j]\n",
    "        return height_map\n",
    "    \n",
    "    if integration_method == 'row':\n",
    "        for i in range(1, h):\n",
    "            height_map[i, 0] = height_map[i-1, 0] + dy[i-1, 0]\n",
    "        for i in range (h):\n",
    "            for j in range(1, w):\n",
    "                height_map[i, j] = height_map[i, j-1] + dx[i, j-1]\n",
    "        return height_map\n",
    "    \n",
    "    if integration_method == 'average':\n",
    "        return 0.5 * (get_surface(surface_normals, 'column') + get_surface(surface_normals, 'row'))\n",
    "    \n",
    "    # if integration_method == 'random':\n",
    "    iteration = 50\n",
    "    for it in range(iteration):\n",
    "        height_map += random_suface(h, w, dx, dy)\n",
    "    height_map = height_map / iteration\n",
    "    return height_map\n",
    "\n",
    "\n",
    "def random_suface(h, w, dx, dy):\n",
    "    height_map = np.zeros((h, w))\n",
    "    # start from point (0, 0), use DFS to traverse all points\n",
    "    visited = [[0]*w for i in range(h)]\n",
    "    visited[0][0] = 1\n",
    "    stack = [(0, 1, 'right'), (1, 0, 'down')]\n",
    "    while (len(stack) > 0):\n",
    "        current_point = stack.pop()\n",
    "        i, j, direction = current_point\n",
    "        visited[i][j] = 1\n",
    "        # calculate current height\n",
    "        if direction == 'down':\n",
    "            height_map[i, j] = height_map[i-1, j] + dy[i-1, j]\n",
    "        elif direction == 'up':\n",
    "            height_map[i, j] = height_map[i+1, j] - dy[i+1, j]\n",
    "        elif direction == 'right':\n",
    "            height_map[i, j] = height_map[i, j-1] + dx[i, j-1]\n",
    "        else:\n",
    "            height_map[i, j] = height_map[i, j+1] - dx[i, j+1]\n",
    "        # we randomly push neighbors of current_point onto stack\n",
    "        neighbor_list = [(i+1, j, 'down'), (i-1, j, 'up'), (i, j+1, 'right'), (i, j-1, 'left')]\n",
    "        random.shuffle(neighbor_list)\n",
    "        for neighbor in neighbor_list:\n",
    "            new_i, new_j, _ = neighbor\n",
    "            # check bound\n",
    "            if (new_i < 0 or new_i >= h or new_j < 0 or new_j >= w):\n",
    "                continue\n",
    "            # check visited\n",
    "            elif visited[new_i][new_j] == 1:\n",
    "                continue\n",
    "            # else, push neighbor onto stack\n",
    "            else:\n",
    "                stack.append(neighbor)\n",
    "    return height_map"
   ]
  },
  {
   "cell_type": "markdown",
   "metadata": {},
   "source": [
    "### Main function"
   ]
  },
  {
   "cell_type": "code",
   "execution_count": null,
   "metadata": {},
   "outputs": [],
   "source": [
    "root_path = './croppedyale/'\n",
    "subject_name = 'yaleB02'\n",
    "integration_method = 'random'\n",
    "save_flag = False\n",
    "\n",
    "full_path = '%s%s' % (root_path, subject_name)\n",
    "ambient_image, imarray, light_dirs = LoadFaceImages(full_path, subject_name,\n",
    "                                                    64)\n",
    "# print(ambient_image.shape, imarray.shape)\n",
    "processed_imarray = preprocess(ambient_image, imarray)\n",
    "\n",
    "albedo_image, surface_normals, residues = photometric_stereo(processed_imarray, light_dirs)\n",
    "\n",
    "height_map = get_surface(surface_normals, integration_method)\n",
    "\n",
    "if save_flag:\n",
    "    save_outputs(subject_name, albedo_image, surface_normals)"
   ]
  },
  {
   "cell_type": "code",
   "execution_count": null,
   "metadata": {},
   "outputs": [],
   "source": [
    "total_residues = np.sum(residues)\n",
    "h, w = ambient_image.shape\n",
    "average_residues = total_residues / (h*w*64)\n",
    "print(\"residues for image %s is:\" %(subject_name), total_residues)\n",
    "print(\"average residues for each pixel in image %s is:\" %(subject_name), average_residues)"
   ]
  },
  {
   "cell_type": "code",
   "execution_count": null,
   "metadata": {},
   "outputs": [],
   "source": [
    "# view point\n",
    "elev = 20\n",
    "azim = 45"
   ]
  },
  {
   "cell_type": "code",
   "execution_count": null,
   "metadata": {
    "scrolled": true
   },
   "outputs": [],
   "source": [
    "plot_albedo_and_surface_normals(albedo_image, surface_normals)"
   ]
  },
  {
   "cell_type": "code",
   "execution_count": null,
   "metadata": {
    "scrolled": false
   },
   "outputs": [],
   "source": [
    "display_3d(albedo_image, height_map, elev=20, azim=45)"
   ]
  },
  {
   "cell_type": "code",
   "execution_count": null,
   "metadata": {
    "scrolled": false
   },
   "outputs": [],
   "source": [
    "t0 = timeit.default_timer()\n",
    "height_map_column = get_surface(surface_normals, 'column')\n",
    "t1 = timeit.default_timer()\n",
    "height_map_row = get_surface(surface_normals, 'row')\n",
    "t2 = timeit.default_timer()\n",
    "height_map_average = get_surface(surface_normals, 'average')\n",
    "t3 = timeit.default_timer()\n",
    "height_map_random = get_surface(surface_normals, 'random')\n",
    "t4 = timeit.default_timer()\n",
    "print(\"runtime for 4 methods are:\")\n",
    "print(\"column: %f s\" %(t1-t0))\n",
    "print(\"row: %f s\" %(t2-t1))\n",
    "print(\"average: %f s\" %(t3-t2))\n",
    "print(\"random: %f s\" %(t4-t3))"
   ]
  },
  {
   "cell_type": "code",
   "execution_count": null,
   "metadata": {
    "scrolled": false
   },
   "outputs": [],
   "source": [
    "# column method\n",
    "display_3d(albedo_image, height_map_column, elev=elev, azim=azim)"
   ]
  },
  {
   "cell_type": "code",
   "execution_count": null,
   "metadata": {},
   "outputs": [],
   "source": [
    "# row\n",
    "display_3d(albedo_image, height_map_row, elev=elev, azim=azim)"
   ]
  },
  {
   "cell_type": "code",
   "execution_count": null,
   "metadata": {},
   "outputs": [],
   "source": [
    "# average\n",
    "display_3d(albedo_image, height_map_average, elev=elev, azim=azim)"
   ]
  },
  {
   "cell_type": "code",
   "execution_count": null,
   "metadata": {},
   "outputs": [],
   "source": [
    "# random\n",
    "display_3d(albedo_image, height_map_random, elev=elev, azim=azim)"
   ]
  },
  {
   "cell_type": "code",
   "execution_count": null,
   "metadata": {},
   "outputs": [],
   "source": [
    "root_path = './e/'\n",
    "subject_name = 'yaleB01'\n",
    "integration_method = 'random'\n",
    "save_flag = False\n",
    "\n",
    "full_path = '%s%s' % (root_path, subject_name)\n",
    "ambient_image_e, imarray_e, light_dirs_e = LoadFaceImages(full_path, subject_name,\n",
    "                                                    44)\n",
    "# print(ambient_image.shape, imarray.shape)\n",
    "processed_imarray_e = preprocess(ambient_image_e, imarray_e)\n",
    "\n",
    "albedo_image_e, surface_normals_e, _ = photometric_stereo(processed_imarray_e, light_dirs_e)\n",
    "\n",
    "height_map_e = get_surface(surface_normals_e, integration_method)\n",
    "\n",
    "plot_albedo_and_surface_normals(albedo_image_e, surface_normals_e)\n",
    "display_3d(albedo_image_e, height_map_e, elev=elev, azim=45)"
   ]
  },
  {
   "cell_type": "code",
   "execution_count": null,
   "metadata": {
    "scrolled": false
   },
   "outputs": [],
   "source": [
    "display_3d(albedo_image, height_map, elev=20, azim=45)"
   ]
  },
  {
   "cell_type": "code",
   "execution_count": null,
   "metadata": {},
   "outputs": [],
   "source": []
  },
  {
   "cell_type": "code",
   "execution_count": null,
   "metadata": {},
   "outputs": [],
   "source": []
  }
 ],
 "metadata": {
  "kernelspec": {
   "display_name": "Python 3",
   "language": "python",
   "name": "python3"
  },
  "language_info": {
   "codemirror_mode": {
    "name": "ipython",
    "version": 3
   },
   "file_extension": ".py",
   "mimetype": "text/x-python",
   "name": "python",
   "nbconvert_exporter": "python",
   "pygments_lexer": "ipython3",
   "version": "3.7.6"
  }
 },
 "nbformat": 4,
 "nbformat_minor": 2
}
